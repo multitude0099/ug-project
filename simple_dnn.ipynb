{
 "cells": [
  {
   "cell_type": "code",
   "execution_count": null,
   "metadata": {
    "pycharm": {
     "is_executing": true
    }
   },
   "outputs": [],
   "source": [
    "import warnings\n",
    "warnings.filterwarnings(\"ignore\")"
   ]
  },
  {
   "cell_type": "code",
   "execution_count": null,
   "metadata": {
    "pycharm": {
     "is_executing": true
    }
   },
   "outputs": [],
   "source": [
    "import numpy as np\n",
    "from dataset import  suny_international\n",
    "from animate import plot_daily\n",
    "\n",
    "df=suny_international()"
   ]
  },
  {
   "cell_type": "code",
   "execution_count": null,
   "metadata": {
    "pycharm": {
     "is_executing": true
    }
   },
   "outputs": [],
   "source": [
    "from keras.models import Sequential\n",
    "from keras.layers import Dense\n",
    "\n",
    "def baseline_model(input_dim):\n",
    "    regressor = Sequential()\n",
    "    regressor.add(Dense(units=20, activation='relu', input_dim=input_dim)) \n",
    "    regressor.add(Dense(units=20, activation='relu')) \n",
    "    regressor.add(Dense(units=20, activation='relu')) \n",
    "    regressor.add(Dense(units=1))\n",
    "    regressor.compile(loss='mean_squared_error', optimizer='adam')\n",
    "    return regressor"
   ]
  },
  {
   "cell_type": "code",
   "execution_count": null,
   "outputs": [],
   "source": [
    "X=np.array(df.index.minute+df.index.hour*60).reshape(-1,1)\n",
    "y=np.array(df['GHI'])\n",
    "model = baseline_model(1)\n",
    "model.fit(X,y,epochs=40)\n",
    "y_pred = model.predict(X)\n",
    "model.save('models/simple_dnn_daily.h5')\n",
    "plot_daily(y ,y_pred,save='media/simple_dnn_daily.mp4', index=df.index)"
   ],
   "metadata": {
    "collapsed": false,
    "pycharm": {
     "name": "#%%\n",
     "is_executing": true
    }
   }
  },
  {
   "cell_type": "code",
   "execution_count": null,
   "outputs": [],
   "source": [
    "X=np.array([df.index.minute+df.index.hour*60,df.index.month]).T\n",
    "y=np.array(df['GHI'])\n",
    "model = baseline_model(X.shape[-1])\n",
    "model.fit(X,y,epochs=40)\n",
    "y_pred = model.predict(X)\n",
    "model.save('models/simple_dnn_monthly.h5')\n",
    "plot_daily(y ,y_pred.ravel(),save='media/simple_dnn_monthly.mp4', index=df.index)"
   ],
   "metadata": {
    "collapsed": false,
    "pycharm": {
     "name": "#%%\n",
     "is_executing": true
    }
   }
  },
  {
   "cell_type": "code",
   "execution_count": null,
   "outputs": [
    {
     "name": "stdout",
     "text": [
      "\b\b\b\b\b\b\b\b\b\b\b\b\b\b\b\b\b\b\b\b\b\b\b\b\b\b\b\b\b\b\b\b\b\b\b\b\b\b\b\b\b\b\b\b\b\b\b\b\b\b\b\b\b\b\b\b\b\b\b\b\b\b\b\b\b\b\b\b\b\b\b\b\b\r 4192/30681 [===>..........................] - ETA: 2s - loss: 13274.5010"
     ],
     "output_type": "stream"
    }
   ],
   "source": [
    "atmospheric_factors = ('Cloud Type', 'Dew Point', 'Temperature', 'Pressure',\n",
    "       'Relative Humidity', 'Solar Zenith Angle', 'Precipitable Water',\n",
    "       'Wind Direction', 'Wind Speed', 'Fill Flag')\n",
    "X=np.array([df.index.minute+df.index.hour*60,\n",
    "            df.index.month,\n",
    "            *(df[factor] for factor in atmospheric_factors)]).T\n",
    "y=np.array(df['GHI'])\n",
    "model = baseline_model(X.shape[-1])\n",
    "model.fit(X,y,epochs=40)\n",
    "y_pred = model.predict(X)\n",
    "model.save('models/simple_dnn_atmospheric.h5')\n",
    "plot_daily(y ,y_pred.ravel(),save='media/simple_dnn_atmoshperic.mp4', index=df.index)"
   ],
   "metadata": {
    "collapsed": false,
    "pycharm": {
     "name": "#%%\n",
     "is_executing": true
    }
   }
  },
  {
   "cell_type": "code",
   "execution_count": null,
   "outputs": [],
   "source": [
    "\n"
   ],
   "metadata": {
    "collapsed": false,
    "pycharm": {
     "name": "#%%\n",
     "is_executing": true
    }
   }
  }
 ],
 "metadata": {
  "kernelspec": {
   "name": "pycharm-fb017fbd",
   "language": "python",
   "display_name": "PyCharm (ug-project)"
  },
  "language_info": {
   "codemirror_mode": {
    "name": "ipython",
    "version": 3
   },
   "file_extension": ".py",
   "mimetype": "text/x-python",
   "name": "python",
   "nbconvert_exporter": "python",
   "pygments_lexer": "ipython3",
   "version": "3.7.4"
  },
  "pycharm": {
   "stem_cell": {
    "cell_type": "raw",
    "source": [],
    "metadata": {
     "collapsed": false
    }
   }
  }
 },
 "nbformat": 4,
 "nbformat_minor": 4
}