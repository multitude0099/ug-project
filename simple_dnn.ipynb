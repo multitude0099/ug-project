{
 "cells": [
  {
   "cell_type": "code",
   "execution_count": 4,
   "metadata": {},
   "outputs": [],
   "source": [
    "import warnings\n",
    "warnings.filterwarnings(\"ignore\")\n",
    "import numpy as np\n",
    "\n",
    "from dataset import  suny_international\n",
    "\n"
   ]
  },
  {
   "cell_type": "code",
   "execution_count": 46,
   "metadata": {},
   "outputs": [],
   "source": [
    "df=suny_international()['ghi']\n",
    "X=np.array(df.index.minute+df.index.hour*60).reshape(-1,1)\n",
    "y=np.array(df)"
   ]
  },
  {
   "cell_type": "code",
   "execution_count": 31,
   "metadata": {},
   "outputs": [],
   "source": [
    "from keras.models import Sequential\n",
    "from keras.layers import Dense"
   ]
  },
  {
   "cell_type": "code",
   "execution_count": 86,
   "metadata": {},
   "outputs": [],
   "source": [
    "def baseline_model():\n",
    "    regressor = Sequential()\n",
    "    regressor.add(Dense(units=20, activation='relu', input_dim=1)) \n",
    "    regressor.add(Dense(units=20, activation='relu')) \n",
    "    regressor.add(Dense(units=20, activation='relu')) \n",
    "    regressor.add(Dense(units=1))\n",
    "    regressor.compile(loss='mean_squared_error', optimizer='adam')\n",
    "    return regressor"
   ]
  },
  {
   "cell_type": "code",
   "execution_count": 88,
   "metadata": {},
   "outputs": [
    {
     "name": "stdout",
     "output_type": "stream",
     "text": [
      "Epoch 1/100\n",
      "30681/30681 [==============================] - 4s 135us/step - loss: 136154.4766\n",
      "Epoch 2/100\n",
      "30681/30681 [==============================] - 3s 112us/step - loss: 134510.2332\n",
      "Epoch 3/100\n",
      "30681/30681 [==============================] - 3s 109us/step - loss: 133960.4582\n",
      "Epoch 4/100\n",
      "30681/30681 [==============================] - 3s 108us/step - loss: 133491.8673\n",
      "Epoch 5/100\n",
      "30681/30681 [==============================] - 4s 115us/step - loss: 132844.6454\n",
      "Epoch 6/100\n",
      "30681/30681 [==============================] - 3s 111us/step - loss: 132044.4789\n",
      "Epoch 7/100\n",
      "30681/30681 [==============================] - 3s 112us/step - loss: 130852.4967\n",
      "Epoch 8/100\n",
      "30681/30681 [==============================] - 4s 115us/step - loss: 126736.1953\n",
      "Epoch 9/100\n",
      "30681/30681 [==============================] - 4s 120us/step - loss: 107535.2770\n",
      "Epoch 10/100\n",
      "30681/30681 [==============================] - 3s 109us/step - loss: 76247.5277\n",
      "Epoch 11/100\n",
      "30681/30681 [==============================] - 3s 113us/step - loss: 63738.5069\n",
      "Epoch 12/100\n",
      "30681/30681 [==============================] - 3s 111us/step - loss: 58747.7566\n",
      "Epoch 13/100\n",
      "30681/30681 [==============================] - 3s 112us/step - loss: 55887.4207\n",
      "Epoch 14/100\n",
      "30681/30681 [==============================] - 3s 113us/step - loss: 53449.7667\n",
      "Epoch 15/100\n",
      "30681/30681 [==============================] - 4s 116us/step - loss: 52438.7247\n",
      "Epoch 16/100\n",
      "30681/30681 [==============================] - 4s 119us/step - loss: 51426.1246\n",
      "Epoch 17/100\n",
      "30681/30681 [==============================] - 4s 120us/step - loss: 49899.8693\n",
      "Epoch 18/100\n",
      "30681/30681 [==============================] - 3s 114us/step - loss: 49045.6873\n",
      "Epoch 19/100\n",
      "30681/30681 [==============================] - 4s 125us/step - loss: 48360.7083\n",
      "Epoch 20/100\n",
      "30681/30681 [==============================] - 3s 112us/step - loss: 47872.9918\n",
      "Epoch 21/100\n",
      "30681/30681 [==============================] - 3s 85us/step - loss: 47446.2399\n",
      "Epoch 22/100\n",
      "30681/30681 [==============================] - 3s 98us/step - loss: 48582.4484\n",
      "Epoch 23/100\n",
      "30681/30681 [==============================] - 3s 92us/step - loss: 48255.1034\n",
      "Epoch 24/100\n",
      "30681/30681 [==============================] - 3s 89us/step - loss: 47479.2076\n",
      "Epoch 25/100\n",
      "30681/30681 [==============================] - 3s 90us/step - loss: 46995.9665\n",
      "Epoch 26/100\n",
      "30681/30681 [==============================] - 3s 91us/step - loss: 48031.4195\n",
      "Epoch 27/100\n",
      "30681/30681 [==============================] - 3s 92us/step - loss: 47574.2797\n",
      "Epoch 28/100\n",
      "30681/30681 [==============================] - 3s 86us/step - loss: 48115.1547\n",
      "Epoch 29/100\n",
      "30681/30681 [==============================] - 2s 78us/step - loss: 46867.3280\n",
      "Epoch 30/100\n",
      "30681/30681 [==============================] - 2s 75us/step - loss: 47200.2348\n",
      "Epoch 31/100\n",
      "30681/30681 [==============================] - 2s 74us/step - loss: 46998.6807\n",
      "Epoch 32/100\n",
      "30681/30681 [==============================] - 4s 123us/step - loss: 47221.6597\n",
      "Epoch 33/100\n",
      "30681/30681 [==============================] - 2s 77us/step - loss: 46907.7106\n",
      "Epoch 34/100\n",
      "30681/30681 [==============================] - 2s 74us/step - loss: 47760.5893\n",
      "Epoch 35/100\n",
      "30681/30681 [==============================] - 2s 76us/step - loss: 48114.3980\n",
      "Epoch 36/100\n",
      "30681/30681 [==============================] - 2s 75us/step - loss: 47237.9156\n",
      "Epoch 37/100\n",
      "30681/30681 [==============================] - 2s 73us/step - loss: 46724.1123\n",
      "Epoch 38/100\n",
      "30681/30681 [==============================] - 2s 75us/step - loss: 46887.9017\n",
      "Epoch 39/100\n",
      "30681/30681 [==============================] - 2s 74us/step - loss: 47138.3158\n",
      "Epoch 40/100\n",
      "30681/30681 [==============================] - 2s 74us/step - loss: 47465.1005\n",
      "Epoch 41/100\n",
      "30681/30681 [==============================] - 3s 97us/step - loss: 47121.7391\n",
      "Epoch 42/100\n",
      "30681/30681 [==============================] - 4s 123us/step - loss: 46577.1852\n",
      "Epoch 43/100\n",
      "30681/30681 [==============================] - 4s 115us/step - loss: 47464.9077\n",
      "Epoch 44/100\n",
      "30681/30681 [==============================] - 3s 114us/step - loss: 47429.9216\n",
      "Epoch 45/100\n",
      "30681/30681 [==============================] - 4s 115us/step - loss: 46752.7136\n",
      "Epoch 46/100\n",
      "30681/30681 [==============================] - 4s 118us/step - loss: 46902.6118\n",
      "Epoch 47/100\n",
      "30681/30681 [==============================] - 4s 114us/step - loss: 46655.8533\n",
      "Epoch 48/100\n",
      "30681/30681 [==============================] - 4s 120us/step - loss: 46820.1107\n",
      "Epoch 49/100\n",
      "30681/30681 [==============================] - 4s 130us/step - loss: 46860.2155\n",
      "Epoch 50/100\n",
      "30681/30681 [==============================] - 3s 111us/step - loss: 47072.6940\n",
      "Epoch 51/100\n",
      "30681/30681 [==============================] - 4s 128us/step - loss: 46546.4194\n",
      "Epoch 52/100\n",
      "30681/30681 [==============================] - 3s 108us/step - loss: 46502.4232\n",
      "Epoch 53/100\n",
      "30681/30681 [==============================] - 3s 105us/step - loss: 46345.9983\n",
      "Epoch 54/100\n",
      "30681/30681 [==============================] - 3s 110us/step - loss: 46127.4030\n",
      "Epoch 55/100\n",
      "30681/30681 [==============================] - 3s 98us/step - loss: 46232.1282\n",
      "Epoch 56/100\n",
      "30681/30681 [==============================] - 3s 92us/step - loss: 46242.5648\n",
      "Epoch 57/100\n",
      "30681/30681 [==============================] - 3s 110us/step - loss: 46793.0580\n",
      "Epoch 58/100\n",
      "30681/30681 [==============================] - 3s 108us/step - loss: 46966.3159\n",
      "Epoch 59/100\n",
      "30681/30681 [==============================] - 3s 105us/step - loss: 46667.3506\n",
      "Epoch 60/100\n",
      "30681/30681 [==============================] - 3s 111us/step - loss: 46708.3082\n",
      "Epoch 61/100\n",
      "30681/30681 [==============================] - 3s 112us/step - loss: 47144.1164\n",
      "Epoch 62/100\n",
      "30681/30681 [==============================] - 3s 114us/step - loss: 46141.7914\n",
      "Epoch 63/100\n",
      "30681/30681 [==============================] - 4s 115us/step - loss: 47229.9393\n",
      "Epoch 64/100\n",
      "30681/30681 [==============================] - 4s 117us/step - loss: 46074.2822\n",
      "Epoch 65/100\n",
      "30681/30681 [==============================] - 3s 111us/step - loss: 46833.3606\n",
      "Epoch 66/100\n",
      "30681/30681 [==============================] - 3s 112us/step - loss: 47599.0329\n",
      "Epoch 67/100\n",
      "30681/30681 [==============================] - 3s 107us/step - loss: 45971.2406\n",
      "Epoch 68/100\n",
      "30681/30681 [==============================] - 4s 132us/step - loss: 46380.0371\n",
      "Epoch 69/100\n",
      "30681/30681 [==============================] - 3s 105us/step - loss: 46641.1693\n",
      "Epoch 70/100\n",
      "30681/30681 [==============================] - 4s 125us/step - loss: 47188.5303\n",
      "Epoch 71/100\n",
      "30681/30681 [==============================] - 3s 110us/step - loss: 46119.0005\n",
      "Epoch 72/100\n",
      "30681/30681 [==============================] - 3s 109us/step - loss: 46923.0615\n",
      "Epoch 73/100\n",
      "30681/30681 [==============================] - 3s 106us/step - loss: 46186.8710\n",
      "Epoch 74/100\n",
      "30681/30681 [==============================] - 3s 109us/step - loss: 46262.0488\n",
      "Epoch 75/100\n",
      "30681/30681 [==============================] - 3s 108us/step - loss: 45874.9364\n",
      "Epoch 76/100\n",
      "30681/30681 [==============================] - 4s 121us/step - loss: 46680.3920\n",
      "Epoch 77/100\n",
      "30681/30681 [==============================] - 4s 117us/step - loss: 46337.9635\n",
      "Epoch 78/100\n",
      "30681/30681 [==============================] - 4s 117us/step - loss: 46456.0977\n",
      "Epoch 79/100\n",
      "30681/30681 [==============================] - 4s 117us/step - loss: 46901.6863\n",
      "Epoch 80/100\n",
      "30681/30681 [==============================] - 4s 118us/step - loss: 46486.8801\n",
      "Epoch 81/100\n",
      "30681/30681 [==============================] - 4s 119us/step - loss: 46952.0053\n",
      "Epoch 82/100\n",
      "30681/30681 [==============================] - 4s 120us/step - loss: 46237.4442\n",
      "Epoch 83/100\n",
      "30681/30681 [==============================] - 4s 119us/step - loss: 46230.8968\n",
      "Epoch 84/100\n",
      "30681/30681 [==============================] - 3s 112us/step - loss: 46326.2748\n",
      "Epoch 85/100\n",
      "30681/30681 [==============================] - 3s 112us/step - loss: 46219.8059\n",
      "Epoch 86/100\n",
      "30681/30681 [==============================] - 3s 113us/step - loss: 46196.3417\n",
      "Epoch 87/100\n",
      "30681/30681 [==============================] - 4s 116us/step - loss: 46747.9741\n",
      "Epoch 88/100\n",
      "30681/30681 [==============================] - 3s 114us/step - loss: 46430.4441\n",
      "Epoch 89/100\n",
      "30681/30681 [==============================] - 3s 112us/step - loss: 46598.0186\n",
      "Epoch 90/100\n",
      "30681/30681 [==============================] - 4s 115us/step - loss: 46393.3998\n",
      "Epoch 91/100\n",
      "30681/30681 [==============================] - 4s 115us/step - loss: 46321.8431\n",
      "Epoch 92/100\n",
      "30681/30681 [==============================] - 4s 117us/step - loss: 45980.2451\n",
      "Epoch 93/100\n",
      "30681/30681 [==============================] - 4s 118us/step - loss: 46182.0248\n",
      "Epoch 94/100\n",
      "30681/30681 [==============================] - 3s 99us/step - loss: 45888.7471\n",
      "Epoch 95/100\n",
      "30681/30681 [==============================] - 4s 116us/step - loss: 46379.1909\n",
      "Epoch 96/100\n",
      "30681/30681 [==============================] - 4s 117us/step - loss: 46026.5848\n",
      "Epoch 97/100\n",
      "30681/30681 [==============================] - 4s 123us/step - loss: 46063.4142\n",
      "Epoch 98/100\n",
      "30681/30681 [==============================] - 4s 117us/step - loss: 46285.3967\n",
      "Epoch 99/100\n",
      "30681/30681 [==============================] - 4s 116us/step - loss: 46974.7103\n",
      "Epoch 100/100\n",
      "30681/30681 [==============================] - 3s 113us/step - loss: 45724.1786\n"
     ]
    },
    {
     "data": {
      "text/plain": [
       "<keras.callbacks.History at 0x7f322a9bf950>"
      ]
     },
     "execution_count": 88,
     "metadata": {},
     "output_type": "execute_result"
    }
   ],
   "source": [
    "model = baseline_model()\n",
    "model.fit(X,y,epochs=100)\n",
    "\n",
    "\n",
    "yp=model.predict(X)"
   ]
  },
  {
   "cell_type": "code",
   "execution_count": 69,
   "metadata": {},
   "outputs": [
    {
     "data": {
      "text/plain": [
       "<matplotlib.collections.PathCollection at 0x7f322ce7f690>"
      ]
     },
     "execution_count": 69,
     "metadata": {},
     "output_type": "execute_result"
    },
    {
     "data": {
      "image/png": "[encoded data removed]",
      "text/plain": [
       "<Figure size 432x288 with 1 Axes>"
      ]
     },
     "metadata": {
      "needs_background": "light"
     },
     "output_type": "display_data"
    }
   ],
   "source": [
    "import matplotlib.pyplot as plt\n",
    "plt.scatter(X.reshape(-1),y)"
   ]
  },
  {
   "cell_type": "code",
   "execution_count": 92,
   "metadata": {},
   "outputs": [
    {
     "data": {
      "text/plain": [
       "<matplotlib.collections.PathCollection at 0x7f3229cab890>"
      ]
     },
     "execution_count": 92,
     "metadata": {},
     "output_type": "execute_result"
    },
    {
     "data": {
      "image/png": "[encoded data removed]",
      "text/plain": [
       "<Figure size 432x288 with 1 Axes>"
      ]
     },
     "metadata": {
      "needs_background": "light"
     },
     "output_type": "display_data"
    }
   ],
   "source": [
    "plt.scatter(X.reshape(-1),yp)"
   ]
  },
  {
   "cell_type": "code",
   "execution_count": null,
   "metadata": {},
   "outputs": [],
   "source": []
  }
 ],
 "metadata": {
  "kernelspec": {
   "display_name": "Python 3",
   "language": "python",
   "name": "python3"
  },
  "language_info": {
   "codemirror_mode": {
    "name": "ipython",
    "version": 3
   },
   "file_extension": ".py",
   "mimetype": "text/x-python",
   "name": "python",
   "nbconvert_exporter": "python",
   "pygments_lexer": "ipython3",
   "version": "3.7.4"
  },
  "pycharm": {
   "stem_cell": {
    "cell_type": "raw",
    "source": [],
    "metadata": {
     "collapsed": false
    }
   }
  }
 },
 "nbformat": 4,
 "nbformat_minor": 4
}