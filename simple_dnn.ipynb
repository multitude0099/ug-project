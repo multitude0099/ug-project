{
 "cells": [
  {
   "cell_type": "code",
   "execution_count": 1,
   "metadata": {
    "pycharm": {
     "is_executing": true
    }
   },
   "outputs": [],
   "source": [
    "import warnings\n",
    "warnings.filterwarnings(\"ignore\")"
   ]
  },
  {
   "cell_type": "code",
   "execution_count": 2,
   "metadata": {
    "pycharm": {
     "is_executing": true
    }
   },
   "outputs": [],
   "source": [
    "import numpy as np\n",
    "from dataset import  suny_international\n",
    "from animate import plot_daily\n",
    "\n",
    "df=suny_international.load_data()"
   ]
  },
  {
   "cell_type": "code",
   "execution_count": 3,
   "metadata": {
    "pycharm": {
     "is_executing": true
    }
   },
   "outputs": [
    {
     "name": "stderr",
     "output_type": "stream",
     "text": [
      "Using TensorFlow backend.\n"
     ]
    }
   ],
   "source": [
    "from keras.models import Sequential\n",
    "from keras.layers import Dense\n",
    "\n",
    "def baseline_model(input_dim):\n",
    "    regressor = Sequential()\n",
    "    regressor.add(Dense(units=20, activation='relu', input_dim=input_dim)) \n",
    "    regressor.add(Dense(units=20, activation='relu')) \n",
    "    regressor.add(Dense(units=20, activation='relu')) \n",
    "    regressor.add(Dense(units=1))\n",
    "    regressor.compile(loss='mean_squared_error', optimizer='adam')\n",
    "    return regressor"
   ]
  },
  {
   "cell_type": "code",
   "execution_count": null,
   "metadata": {
    "collapsed": false,
    "jupyter": {
     "outputs_hidden": false
    },
    "pycharm": {
     "is_executing": true,
     "name": "#%%\n"
    }
   },
   "outputs": [
    {
     "name": "stdout",
     "output_type": "stream",
     "text": [
      "Epoch 1/40\n",
      "30681/30681 [==============================] - 3s 103us/step - loss: 148128.4039\n",
      "Epoch 2/40\n",
      "30681/30681 [==============================] - 3s 90us/step - loss: 134738.0624\n",
      "Epoch 3/40\n",
      "30681/30681 [==============================] - 3s 88us/step - loss: 134385.4923\n",
      "Epoch 4/40\n",
      "30681/30681 [==============================] - 3s 91us/step - loss: 134001.5723\n",
      "Epoch 5/40\n",
      "30681/30681 [==============================] - 3s 88us/step - loss: 133729.3341\n",
      "Epoch 6/40\n",
      "30681/30681 [==============================] - 3s 91us/step - loss: 133309.8783\n",
      "Epoch 7/40\n",
      "30681/30681 [==============================] - 3s 93us/step - loss: 132679.3487\n",
      "Epoch 8/40\n",
      "30681/30681 [==============================] - 3s 89us/step - loss: 132225.7448\n",
      "Epoch 9/40\n",
      "30681/30681 [==============================] - 3s 89us/step - loss: 131659.2717\n",
      "Epoch 10/40\n",
      "30681/30681 [==============================] - 3s 89us/step - loss: 130605.3124\n",
      "Epoch 11/40\n",
      "30681/30681 [==============================] - 3s 86us/step - loss: 127793.3214\n",
      "Epoch 12/40\n",
      "30681/30681 [==============================] - 3s 89us/step - loss: 123344.3869\n",
      "Epoch 13/40\n",
      "30681/30681 [==============================] - 3s 89us/step - loss: 113875.5853\n",
      "Epoch 14/40\n",
      "30681/30681 [==============================] - 3s 89us/step - loss: 99856.0666\n",
      "Epoch 15/40\n",
      "30681/30681 [==============================] - 3s 91us/step - loss: 83066.6330\n",
      "Epoch 16/40\n",
      "30681/30681 [==============================] - 3s 93us/step - loss: 71718.3803\n",
      "Epoch 17/40\n",
      "30681/30681 [==============================] - 3s 89us/step - loss: 64518.9158\n",
      "Epoch 18/40\n",
      "30681/30681 [==============================] - 3s 91us/step - loss: 61728.5722\n",
      "Epoch 19/40\n",
      "30681/30681 [==============================] - 3s 90us/step - loss: 58887.3800\n",
      "Epoch 20/40\n",
      "30681/30681 [==============================] - 3s 90us/step - loss: 57366.1562\n",
      "Epoch 21/40\n",
      "30681/30681 [==============================] - 3s 97us/step - loss: 55810.4493\n",
      "Epoch 22/40\n",
      "30681/30681 [==============================] - 3s 114us/step - loss: 55572.3408\n",
      "Epoch 23/40\n",
      "30681/30681 [==============================] - 3s 99us/step - loss: 54030.6818\n",
      "Epoch 24/40\n",
      "30681/30681 [==============================] - 3s 96us/step - loss: 52743.8793\n",
      "Epoch 25/40\n",
      "30681/30681 [==============================] - 3s 99us/step - loss: 52359.7211\n",
      "Epoch 26/40\n",
      "30681/30681 [==============================] - 3s 92us/step - loss: 51661.8410\n",
      "Epoch 27/40\n",
      "30681/30681 [==============================] - 3s 96us/step - loss: 49932.7329\n",
      "Epoch 28/40\n",
      "30681/30681 [==============================] - 3s 93us/step - loss: 49182.8505\n",
      "Epoch 29/40\n",
      "30681/30681 [==============================] - 3s 99us/step - loss: 48778.6185\n",
      "Epoch 30/40\n",
      "30681/30681 [==============================] - 3s 98us/step - loss: 48222.4165\n",
      "Epoch 31/40\n",
      "30681/30681 [==============================] - 3s 97us/step - loss: 47201.1683\n",
      "Epoch 32/40\n",
      "30681/30681 [==============================] - 3s 95us/step - loss: 46799.7115\n",
      "Epoch 33/40\n",
      "30681/30681 [==============================] - 3s 94us/step - loss: 46517.1247\n",
      "Epoch 34/40\n",
      "30681/30681 [==============================] - 3s 96us/step - loss: 47058.1000\n",
      "Epoch 35/40\n",
      "30681/30681 [==============================] - 3s 94us/step - loss: 47095.3620\n",
      "Epoch 36/40\n",
      "30681/30681 [==============================] - 3s 110us/step - loss: 46759.0383\n",
      "Epoch 37/40\n",
      "30681/30681 [==============================] - 3s 99us/step - loss: 47188.1091\n",
      "Epoch 38/40\n",
      "30681/30681 [==============================] - 3s 110us/step - loss: 46789.2396\n",
      "Epoch 39/40\n",
      "30681/30681 [==============================] - 3s 86us/step - loss: 47081.5347\n",
      "Epoch 40/40\n",
      "30681/30681 [==============================] - 2s 79us/step - loss: 46715.7293\n"
     ]
    }
   ],
   "source": [
    "X=np.array(df.index.minute+df.index.hour*60).reshape(-1,1)\n",
    "y=np.array(df['GHI'])\n",
    "model = baseline_model(1)\n",
    "model.fit(X,y,epochs=40)\n",
    "y_pred = model.predict(X)\n",
    "model.save('models/simple_dnn_daily.h5')\n",
    "plot_daily(y ,y_pred.ravel(),save='media/simple_dnn_daily.mp4', index=df.index)"
   ]
  },
  {
   "cell_type": "code",
   "execution_count": null,
   "metadata": {
    "collapsed": false,
    "jupyter": {
     "outputs_hidden": false
    },
    "pycharm": {
     "is_executing": true,
     "name": "#%%\n"
    }
   },
   "outputs": [],
   "source": [
    "X=np.array([df.index.minute+df.index.hour*60,df.index.month]).T\n",
    "y=np.array(df['GHI'])\n",
    "model = baseline_model(X.shape[-1])\n",
    "model.fit(X,y,epochs=40)\n",
    "y_pred = model.predict(X)\n",
    "model.save('models/simple_dnn_monthly.h5')\n",
    "plot_daily(y ,y_pred.ravel(),save='media/simple_dnn_monthly.mp4', index=df.index)"
   ]
  },
  {
   "cell_type": "code",
   "execution_count": null,
   "metadata": {
    "collapsed": false,
    "jupyter": {
     "outputs_hidden": false
    },
    "pycharm": {
     "is_executing": true,
     "name": "#%%\n"
    }
   },
   "outputs": [
    {
     "name": "stdout",
     "output_type": "stream",
     "text": [
      " 4192/30681 [===>..........................] - ETA: 2s - loss: 13274.5010"
     ]
    }
   ],
   "source": [
    "atmospheric_factors = ('Cloud Type', 'Dew Point', 'Temperature', 'Pressure',\n",
    "       'Relative Humidity', 'Solar Zenith Angle', 'Precipitable Water',\n",
    "       'Wind Direction', 'Wind Speed', 'Fill Flag')\n",
    "X=np.array([df.index.minute+df.index.hour*60,\n",
    "            df.index.month,\n",
    "            *(df[factor] for factor in atmospheric_factors)]).T\n",
    "y=np.array(df['GHI'])\n",
    "model = baseline_model(X.shape[-1])\n",
    "model.fit(X,y,epochs=40)\n",
    "y_pred = model.predict(X)\n",
    "model.save('models/simple_dnn_atmospheric.h5')\n",
    "plot_daily(y ,y_pred.ravel(),save='media/simple_dnn_atmoshperic.mp4', index=df.index)"
   ]
  },
  {
   "cell_type": "code",
   "execution_count": null,
   "metadata": {
    "collapsed": false,
    "jupyter": {
     "outputs_hidden": false
    },
    "pycharm": {
     "is_executing": true,
     "name": "#%%\n"
    }
   },
   "outputs": [],
   "source": [
    "\n"
   ]
  }
 ],
 "metadata": {
  "kernelspec": {
   "display_name": "PyCharm (ug-project)",
   "language": "python",
   "name": "pycharm-fb017fbd"
  },
  "language_info": {
   "codemirror_mode": {
    "name": "ipython",
    "version": 3
   },
   "file_extension": ".py",
   "mimetype": "text/x-python",
   "name": "python",
   "nbconvert_exporter": "python",
   "pygments_lexer": "ipython3",
   "version": "3.7.4"
  },
  "pycharm": {
   "stem_cell": {
    "cell_type": "raw",
    "metadata": {
     "collapsed": false
    },
    "source": []
   }
  }
 },
 "nbformat": 4,
 "nbformat_minor": 4
}
